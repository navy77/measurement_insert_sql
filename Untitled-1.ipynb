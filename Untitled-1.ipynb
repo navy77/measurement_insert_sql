{
 "cells": [
  {
   "cell_type": "code",
   "execution_count": 2,
   "metadata": {},
   "outputs": [],
   "source": [
    "import pandas as pd\n",
    "from influxdb import InfluxDBClient\n",
    "from dotenv import load_dotenv\n",
    "import os\n",
    "from datetime import datetime\n",
    "import time\n",
    "load_dotenv()\n",
    "\n",
    "influx_server = os.getenv('INFLUX_SERVER')\n",
    "influx_port = os.getenv('INFLUX_PORT')\n",
    "influx_user_login = os.getenv('INFLUX_LOGIN')\n",
    "influx_password = os.getenv('INFLUX_PASSWORD')\n",
    "influx_database = os.getenv('INFLUX_DATABASE')\n",
    "device_topic = os.getenv('TOPIC_RESULT')\n",
    "pd.set_option('display.expand_frame_repr', False)\n",
    "pd.set_option('display.max_columns', None)"
   ]
  },
  {
   "cell_type": "code",
   "execution_count": 5,
   "metadata": {},
   "outputs": [
    {
     "name": "stdout",
     "output_type": "stream",
     "text": [
      "                          time    topic spec_id spec_name  job_no instrument_no employee_no judgment  method  point  spec  spec_max  spec_min point_no  value\n",
      "0  2024-07-11T08:07:12.233658Z  data/a1   sp001     width  job001         qc001       T1311     pass     1.0    4.0  10.0      11.0       9.0  point_0   10.0\n",
      "1  2024-07-11T08:07:12.233658Z  data/a1   sp001     width  job001         qc001       T1311     pass     1.0    4.0  10.0      11.0       9.0  point_1   11.0\n",
      "2  2024-07-11T08:07:12.233658Z  data/a1   sp001     width  job001         qc001       T1311     pass     1.0    4.0  10.0      11.0       9.0  point_2    9.0\n",
      "3  2024-07-11T08:07:12.233658Z  data/a1   sp001     width  job001         qc001       T1311     pass     1.0    4.0  10.0      11.0       9.0  point_3   11.0\n",
      "4  2024-07-11T08:07:12.233658Z  data/a1   sp001     width  job001         qc001       T1311     pass     1.0    4.0  10.0      11.0       9.0  point_4    9.0\n"
     ]
    }
   ],
   "source": [
    "result_lists = []\n",
    "device_list = list(str(device_topic).split(\",\"))\n",
    "client = InfluxDBClient(influx_server, influx_port, influx_user_login,influx_password, influx_database)\n",
    "\n",
    "for i in range(len(device_list)):\n",
    "    query = f\"select * from mqtt_consumer where topic ='{device_list[i]}' order by time desc\"\n",
    "\n",
    "    result = client.query(query)\n",
    "    result_df = pd.DataFrame(result.get_points())\n",
    "    result_lists.append(result_df)\n",
    "query_influx = pd.concat(result_lists, ignore_index=True)\n",
    "init_list =['time','topic','spec_id','spec_name','job_no','instrument_no','employee_no','judgment','method','point','spec', 'spec_max',  'spec_min' ]\n",
    "\n",
    "point_columns = [col for col in query_influx.columns if col.startswith('point_')]\n",
    "melted_df = query_influx.melt(id_vars= init_list, value_vars=point_columns, var_name='point_no', value_name='value')\n",
    "df = melted_df.sort_values(by=['time', 'point_no']).reset_index(drop=True)\n",
    "print(df)"
   ]
  },
  {
   "cell_type": "code",
   "execution_count": 6,
   "metadata": {},
   "outputs": [
    {
     "name": "stdout",
     "output_type": "stream",
     "text": [
      "                  time    topic spec_id spec_name  job_no instrument_no employee_no judgment  method  point  spec  spec_max  spec_min point_no  value\n",
      "0  2024-07-11 15:07:12  data/a1   sp001     width  job001         qc001       T1311     pass     1.0    4.0  10.0      11.0       9.0  point_0   10.0\n",
      "1  2024-07-11 15:07:12  data/a1   sp001     width  job001         qc001       T1311     pass     1.0    4.0  10.0      11.0       9.0  point_1   11.0\n",
      "2  2024-07-11 15:07:12  data/a1   sp001     width  job001         qc001       T1311     pass     1.0    4.0  10.0      11.0       9.0  point_2    9.0\n",
      "3  2024-07-11 15:07:12  data/a1   sp001     width  job001         qc001       T1311     pass     1.0    4.0  10.0      11.0       9.0  point_3   11.0\n",
      "4  2024-07-11 15:07:12  data/a1   sp001     width  job001         qc001       T1311     pass     1.0    4.0  10.0      11.0       9.0  point_4    9.0\n"
     ]
    }
   ],
   "source": [
    "\n",
    "df[\"time\"] =   pd.to_datetime(df[\"time\"]).dt.tz_convert(None)\n",
    "df[\"time\"] = df[\"time\"] + pd.DateOffset(hours=7)    \n",
    "df[\"time\"] = df['time'].apply(lambda x: x.strftime('%Y-%m-%d %H:%M:%S'))\n",
    "print(df)"
   ]
  }
 ],
 "metadata": {
  "kernelspec": {
   "display_name": "Python 3",
   "language": "python",
   "name": "python3"
  },
  "language_info": {
   "codemirror_mode": {
    "name": "ipython",
    "version": 3
   },
   "file_extension": ".py",
   "mimetype": "text/x-python",
   "name": "python",
   "nbconvert_exporter": "python",
   "pygments_lexer": "ipython3",
   "version": "3.12.3"
  }
 },
 "nbformat": 4,
 "nbformat_minor": 2
}
